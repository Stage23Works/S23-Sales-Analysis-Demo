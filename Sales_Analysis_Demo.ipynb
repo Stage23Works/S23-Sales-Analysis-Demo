{
  "cells": [
    {
      "cell_type": "markdown",
      "id": "9d0af0c0",
      "metadata": {
        "id": "9d0af0c0"
      },
      "source": [
        "# Importing Modules"
      ]
    },
    {
      "cell_type": "code",
      "execution_count": 1,
      "id": "debf4fb1",
      "metadata": {
        "id": "debf4fb1"
      },
      "outputs": [],
      "source": [
        "import pandas as pd\n",
        "import numpy as np\n",
        "import matplotlib.pyplot as plt\n",
        "import seaborn as sns\n",
        "import plotly.express as px\n",
        "from scipy import stats\n",
        "\n",
        "# Importing Models\n",
        "from sklearn.model_selection import train_test_split\n",
        "from sklearn.preprocessing import StandardScaler\n",
        "from sklearn.linear_model import LinearRegression\n",
        "from sklearn.ensemble import RandomForestRegressor\n",
        "from sklearn.tree import DecisionTreeRegressor\n",
        "from sklearn.linear_model import Ridge\n",
        "from sklearn.neighbors import KNeighborsRegressor\n",
        "\n",
        "# Importing evaluation modules\n",
        "from sklearn.metrics import r2_score, mean_absolute_error, mean_squared_error\n",
        "\n",
        "pd.set_option('display.max_columns', None)\n",
        "pd.set_option('display.max_rows', None)\n",
        "\n",
        "# Setting environment to ignore future warnings\n",
        "import warnings\n",
        "warnings.simplefilter('ignore')\n",
        "%matplotlib inline\n",
        "\n"
      ]
    },
    {
      "cell_type": "markdown",
      "id": "d134717e",
      "metadata": {
        "id": "d134717e"
      },
      "source": [
        "# 1. Data Loading and Overview"
      ]
    },
    {
      "cell_type": "markdown",
      "id": "35b6e5f8",
      "metadata": {
        "id": "35b6e5f8"
      },
      "source": [
        "## 1.1 Data Loading"
      ]
    },
    {
      "cell_type": "code",
      "execution_count": null,
      "id": "c9b95b48",
      "metadata": {
        "colab": {
          "background_save": true,
          "base_uri": "https://localhost:8080/",
          "height": 55
        },
        "id": "c9b95b48",
        "outputId": "5bc6dae1-2652-4484-cba1-3ef15a94283f"
      },
      "outputs": [
        {
          "output_type": "stream",
          "name": "stdout",
          "text": [
            "Please upload your sales CSV now\n"
          ]
        },
        {
          "output_type": "display_data",
          "data": {
            "text/plain": [
              "<IPython.core.display.HTML object>"
            ],
            "text/html": [
              "\n",
              "     <input type=\"file\" id=\"files-e23a9d55-ddc6-498c-bfcb-a680c887a924\" name=\"files[]\" multiple disabled\n",
              "        style=\"border:none\" />\n",
              "     <output id=\"result-e23a9d55-ddc6-498c-bfcb-a680c887a924\">\n",
              "      Upload widget is only available when the cell has been executed in the\n",
              "      current browser session. Please rerun this cell to enable.\n",
              "      </output>\n",
              "      <script>// Copyright 2017 Google LLC\n",
              "//\n",
              "// Licensed under the Apache License, Version 2.0 (the \"License\");\n",
              "// you may not use this file except in compliance with the License.\n",
              "// You may obtain a copy of the License at\n",
              "//\n",
              "//      http://www.apache.org/licenses/LICENSE-2.0\n",
              "//\n",
              "// Unless required by applicable law or agreed to in writing, software\n",
              "// distributed under the License is distributed on an \"AS IS\" BASIS,\n",
              "// WITHOUT WARRANTIES OR CONDITIONS OF ANY KIND, either express or implied.\n",
              "// See the License for the specific language governing permissions and\n",
              "// limitations under the License.\n",
              "\n",
              "/**\n",
              " * @fileoverview Helpers for google.colab Python module.\n",
              " */\n",
              "(function(scope) {\n",
              "function span(text, styleAttributes = {}) {\n",
              "  const element = document.createElement('span');\n",
              "  element.textContent = text;\n",
              "  for (const key of Object.keys(styleAttributes)) {\n",
              "    element.style[key] = styleAttributes[key];\n",
              "  }\n",
              "  return element;\n",
              "}\n",
              "\n",
              "// Max number of bytes which will be uploaded at a time.\n",
              "const MAX_PAYLOAD_SIZE = 100 * 1024;\n",
              "\n",
              "function _uploadFiles(inputId, outputId) {\n",
              "  const steps = uploadFilesStep(inputId, outputId);\n",
              "  const outputElement = document.getElementById(outputId);\n",
              "  // Cache steps on the outputElement to make it available for the next call\n",
              "  // to uploadFilesContinue from Python.\n",
              "  outputElement.steps = steps;\n",
              "\n",
              "  return _uploadFilesContinue(outputId);\n",
              "}\n",
              "\n",
              "// This is roughly an async generator (not supported in the browser yet),\n",
              "// where there are multiple asynchronous steps and the Python side is going\n",
              "// to poll for completion of each step.\n",
              "// This uses a Promise to block the python side on completion of each step,\n",
              "// then passes the result of the previous step as the input to the next step.\n",
              "function _uploadFilesContinue(outputId) {\n",
              "  const outputElement = document.getElementById(outputId);\n",
              "  const steps = outputElement.steps;\n",
              "\n",
              "  const next = steps.next(outputElement.lastPromiseValue);\n",
              "  return Promise.resolve(next.value.promise).then((value) => {\n",
              "    // Cache the last promise value to make it available to the next\n",
              "    // step of the generator.\n",
              "    outputElement.lastPromiseValue = value;\n",
              "    return next.value.response;\n",
              "  });\n",
              "}\n",
              "\n",
              "/**\n",
              " * Generator function which is called between each async step of the upload\n",
              " * process.\n",
              " * @param {string} inputId Element ID of the input file picker element.\n",
              " * @param {string} outputId Element ID of the output display.\n",
              " * @return {!Iterable<!Object>} Iterable of next steps.\n",
              " */\n",
              "function* uploadFilesStep(inputId, outputId) {\n",
              "  const inputElement = document.getElementById(inputId);\n",
              "  inputElement.disabled = false;\n",
              "\n",
              "  const outputElement = document.getElementById(outputId);\n",
              "  outputElement.innerHTML = '';\n",
              "\n",
              "  const pickedPromise = new Promise((resolve) => {\n",
              "    inputElement.addEventListener('change', (e) => {\n",
              "      resolve(e.target.files);\n",
              "    });\n",
              "  });\n",
              "\n",
              "  const cancel = document.createElement('button');\n",
              "  inputElement.parentElement.appendChild(cancel);\n",
              "  cancel.textContent = 'Cancel upload';\n",
              "  const cancelPromise = new Promise((resolve) => {\n",
              "    cancel.onclick = () => {\n",
              "      resolve(null);\n",
              "    };\n",
              "  });\n",
              "\n",
              "  // Wait for the user to pick the files.\n",
              "  const files = yield {\n",
              "    promise: Promise.race([pickedPromise, cancelPromise]),\n",
              "    response: {\n",
              "      action: 'starting',\n",
              "    }\n",
              "  };\n",
              "\n",
              "  cancel.remove();\n",
              "\n",
              "  // Disable the input element since further picks are not allowed.\n",
              "  inputElement.disabled = true;\n",
              "\n",
              "  if (!files) {\n",
              "    return {\n",
              "      response: {\n",
              "        action: 'complete',\n",
              "      }\n",
              "    };\n",
              "  }\n",
              "\n",
              "  for (const file of files) {\n",
              "    const li = document.createElement('li');\n",
              "    li.append(span(file.name, {fontWeight: 'bold'}));\n",
              "    li.append(span(\n",
              "        `(${file.type || 'n/a'}) - ${file.size} bytes, ` +\n",
              "        `last modified: ${\n",
              "            file.lastModifiedDate ? file.lastModifiedDate.toLocaleDateString() :\n",
              "                                    'n/a'} - `));\n",
              "    const percent = span('0% done');\n",
              "    li.appendChild(percent);\n",
              "\n",
              "    outputElement.appendChild(li);\n",
              "\n",
              "    const fileDataPromise = new Promise((resolve) => {\n",
              "      const reader = new FileReader();\n",
              "      reader.onload = (e) => {\n",
              "        resolve(e.target.result);\n",
              "      };\n",
              "      reader.readAsArrayBuffer(file);\n",
              "    });\n",
              "    // Wait for the data to be ready.\n",
              "    let fileData = yield {\n",
              "      promise: fileDataPromise,\n",
              "      response: {\n",
              "        action: 'continue',\n",
              "      }\n",
              "    };\n",
              "\n",
              "    // Use a chunked sending to avoid message size limits. See b/62115660.\n",
              "    let position = 0;\n",
              "    do {\n",
              "      const length = Math.min(fileData.byteLength - position, MAX_PAYLOAD_SIZE);\n",
              "      const chunk = new Uint8Array(fileData, position, length);\n",
              "      position += length;\n",
              "\n",
              "      const base64 = btoa(String.fromCharCode.apply(null, chunk));\n",
              "      yield {\n",
              "        response: {\n",
              "          action: 'append',\n",
              "          file: file.name,\n",
              "          data: base64,\n",
              "        },\n",
              "      };\n",
              "\n",
              "      let percentDone = fileData.byteLength === 0 ?\n",
              "          100 :\n",
              "          Math.round((position / fileData.byteLength) * 100);\n",
              "      percent.textContent = `${percentDone}% done`;\n",
              "\n",
              "    } while (position < fileData.byteLength);\n",
              "  }\n",
              "\n",
              "  // All done.\n",
              "  yield {\n",
              "    response: {\n",
              "      action: 'complete',\n",
              "    }\n",
              "  };\n",
              "}\n",
              "\n",
              "scope.google = scope.google || {};\n",
              "scope.google.colab = scope.google.colab || {};\n",
              "scope.google.colab._files = {\n",
              "  _uploadFiles,\n",
              "  _uploadFilesContinue,\n",
              "};\n",
              "})(self);\n",
              "</script> "
            ]
          },
          "metadata": {}
        }
      ],
      "source": [
        "from google.colab import files\n",
        "import io\n",
        "from IPython.display import clear_output\n",
        "\n",
        "message = None\n",
        "while True:\n",
        "    clear_output(wait=True)\n",
        "    print(\"Please upload your sales CSV now\")\n",
        "    if message:\n",
        "        print(message)\n",
        "    uploaded = files.upload()\n",
        "\n",
        "    if not uploaded:\n",
        "        message = \"No file uploaded. Please try again.\"\n",
        "        continue\n",
        "\n",
        "    fname = next(iter(uploaded))\n",
        "    if not fname.lower().endswith('.csv'):\n",
        "        message = f\" {fname!r} is not a CSV. Please upload a .csv file.\"\n",
        "        continue\n",
        "\n",
        "    # Success\n",
        "    df = pd.read_csv(io.BytesIO(uploaded[fname]), parse_dates=['InvoiceDate'])\n",
        "    clear_output(wait=True)\n",
        "    print(f\"Loaded {df.shape[0]} rows from {fname}\")\n",
        "    display(df.head())\n",
        "    break\n"
      ]
    },
    {
      "cell_type": "markdown",
      "id": "85085665",
      "metadata": {
        "id": "85085665"
      },
      "source": [
        "# 2. Summary and Understanding of Data"
      ]
    },
    {
      "cell_type": "markdown",
      "id": "8a4cd695",
      "metadata": {
        "id": "8a4cd695"
      },
      "source": [
        "## 2.1 Exploratory Data Analysis"
      ]
    },
    {
      "cell_type": "code",
      "execution_count": null,
      "id": "095fa31b",
      "metadata": {
        "id": "095fa31b"
      },
      "outputs": [],
      "source": [
        "# Function to perform all EDA\n",
        "def eda(df, name=\"\"):\n",
        "    # Displaying basic details\n",
        "    print(f\"EDA of {name} Dataset is........\")\n",
        "    print(f\"Size: {df.size}\")\n",
        "    print(f\"Columns: {df.shape[1]}\")\n",
        "    print(f\"Records: {df.shape[0]}\")\n",
        "    print(\"*\"*50, \"\\n\")\n",
        "\n",
        "    # Displayng Top 4 records of Data\n",
        "    print(\"First Look of Data: \")\n",
        "    display(df.head())\n",
        "    print(\"*\"*50, \"\\n\")\n",
        "\n",
        "    # Getting Numerical columns and Categorical columns\n",
        "    cat_col = df.select_dtypes(object).columns\n",
        "    num_col = df.select_dtypes(np.number).columns\n",
        "\n",
        "    # Displaying the Numerical Columns\n",
        "    print(\"Dataset has following Numerical Columns: \")\n",
        "    if len(num_col) == 0:\n",
        "        print('''\\t\"No Numerical Column exist.\"''', \"\\n\")\n",
        "    else:\n",
        "        for i, j in enumerate(num_col):\n",
        "            print(f\"{i+1}- {j}\")\n",
        "\n",
        "    # Displaying the Categorical Columns\n",
        "    print(\"*\"*50)\n",
        "    print(\"Dataset has following Categorical Columns: \")\n",
        "    if len(cat_col) == 0:\n",
        "        print(\"\\tNo Categorical Column exist.\")\n",
        "    else:\n",
        "        for i, j in enumerate(cat_col):\n",
        "            print(f\"{i+1}- {j}\")\n",
        "    print(\"*\"*50, \"\\n\")\n",
        "\n",
        "    # Displaying info of Data e.g., Null values, data types etc\n",
        "    print(\"Information of Data is as follows: \")\n",
        "    display(df.info())\n",
        "    print(\"*\"*50, \"\\n\")\n",
        "\n",
        "    # Displaying Statistical properties\n",
        "    print(\"Statistical Properties of Data: \")\n",
        "    display(df.describe(include=\"all\"))\n",
        "    print(\"*\"*50, \"\\n\")"
      ]
    },
    {
      "cell_type": "code",
      "execution_count": null,
      "id": "6c51be34",
      "metadata": {
        "id": "6c51be34",
        "scrolled": true
      },
      "outputs": [],
      "source": [
        "eda(df, \"Online Retail\")"
      ]
    },
    {
      "cell_type": "code",
      "execution_count": null,
      "id": "f1d26d16",
      "metadata": {
        "id": "f1d26d16"
      },
      "outputs": [],
      "source": [
        "df2 = df.copy()"
      ]
    },
    {
      "cell_type": "markdown",
      "id": "ed9ba60d",
      "metadata": {
        "id": "ed9ba60d"
      },
      "source": [
        "# 3. Data Visualization"
      ]
    },
    {
      "cell_type": "markdown",
      "id": "05537f22",
      "metadata": {
        "id": "05537f22"
      },
      "source": [
        "## 3.1 Product Analysis"
      ]
    },
    {
      "cell_type": "markdown",
      "id": "880bc353",
      "metadata": {
        "id": "880bc353"
      },
      "source": [
        "### 3.1.1 What are the top-selling products by quantity and revenue?"
      ]
    },
    {
      "cell_type": "code",
      "execution_count": null,
      "id": "581e0abe",
      "metadata": {
        "id": "581e0abe",
        "scrolled": true
      },
      "outputs": [],
      "source": [
        "# Calculate total quantity and revenue for each product\n",
        "df2['Revenue'] = df2['Quantity'] * df2['UnitPrice']\n",
        "df2['Revenue'] = df2['Revenue'].round(2)\n",
        "product_quantity = df2.groupby('Description')['Quantity'].sum().sort_values(ascending=False).head(10)\n",
        "product_revenue = df2.groupby('Description')['Revenue'].sum().sort_values(ascending=False).head(10)"
      ]
    },
    {
      "cell_type": "code",
      "execution_count": null,
      "id": "a8374305",
      "metadata": {
        "id": "a8374305"
      },
      "outputs": [],
      "source": [
        "product_quantity"
      ]
    },
    {
      "cell_type": "code",
      "execution_count": null,
      "id": "69f34698",
      "metadata": {
        "id": "69f34698"
      },
      "outputs": [],
      "source": [
        "# Plot top-selling products by quantity\n",
        "plt.figure(figsize=(10, 4))\n",
        "sns.barplot(x=product_quantity.values, y=product_quantity.index, palette='viridis')\n",
        "plt.title('Top Selling Products by Quantity')\n",
        "plt.xlabel('Quantity Sold')\n",
        "plt.ylabel('Product Description')\n",
        "plt.show()"
      ]
    },
    {
      "cell_type": "code",
      "execution_count": null,
      "id": "db7c3ccb",
      "metadata": {
        "id": "db7c3ccb"
      },
      "outputs": [],
      "source": [
        "product_revenue"
      ]
    },
    {
      "cell_type": "code",
      "execution_count": null,
      "id": "cc4edccd",
      "metadata": {
        "id": "cc4edccd"
      },
      "outputs": [],
      "source": [
        "# Plot top-selling products by revenue\n",
        "plt.figure(figsize=(10, 4))\n",
        "sns.barplot(x=product_revenue.values, y=product_revenue.index, palette='viridis')\n",
        "plt.title('Top Selling Products by Revenue')\n",
        "plt.xlabel('Revenue')\n",
        "plt.ylabel('Product Description')\n",
        "plt.show()"
      ]
    },
    {
      "cell_type": "markdown",
      "id": "8b09a752",
      "metadata": {
        "id": "8b09a752"
      },
      "source": [
        "### 3.1.2 Can you identify any seasonal trends in product sales?"
      ]
    },
    {
      "cell_type": "code",
      "execution_count": null,
      "id": "1f9794d0",
      "metadata": {
        "id": "1f9794d0"
      },
      "outputs": [],
      "source": [
        "# Convert 'InvoiceDate' to datetime format if not already\n",
        "df2['InvoiceDate'] = pd.to_datetime(df2['InvoiceDate'])\n",
        "\n",
        "# Extract month and year from 'InvoiceDate'\n",
        "df2['Month'] = df2['InvoiceDate'].dt.month\n",
        "df2['Year'] = df2['InvoiceDate'].dt.year\n",
        "\n",
        "# Group by month and year to get total sales\n",
        "monthly_sales = df2.groupby(['Year', 'Month'])['Quantity'].sum().reset_index()\n",
        "\n",
        "# Plot the seasonal trends\n",
        "plt.figure(figsize=(14, 6))\n",
        "sns.lineplot(x='Month', y='Quantity', hue='Year', data=monthly_sales, palette='viridis')\n",
        "plt.title('Seasonal Trends in Product Sales')\n",
        "plt.xlabel('Month')\n",
        "plt.ylabel('Total Sales Quantity')\n",
        "plt.xticks(range(1, 13), ['Jan', 'Feb', 'Mar', 'Apr', 'May', 'Jun', 'Jul', 'Aug', 'Sep', 'Oct', 'Nov', 'Dec'])\n",
        "plt.legend(title='Year')\n",
        "plt.show()"
      ]
    },
    {
      "cell_type": "code",
      "execution_count": null,
      "id": "c3a5f35a",
      "metadata": {
        "id": "c3a5f35a",
        "scrolled": true
      },
      "outputs": [],
      "source": [
        "monthly_sales"
      ]
    },
    {
      "cell_type": "markdown",
      "id": "935f6a04",
      "metadata": {
        "id": "935f6a04"
      },
      "source": [
        "## 3.2 Customer Analysis:"
      ]
    },
    {
      "cell_type": "markdown",
      "id": "78a55663",
      "metadata": {
        "id": "78a55663"
      },
      "source": [
        "### 3.2.1 Who are the top customers in terms of purchase frequency and total spending?"
      ]
    },
    {
      "cell_type": "code",
      "execution_count": null,
      "id": "e3829c7d",
      "metadata": {
        "id": "e3829c7d"
      },
      "outputs": [],
      "source": [
        "# Calculate total spending for each customer\n",
        "customer_purchase_frequency = df2.groupby('CustomerID')['InvoiceNo'].nunique().sort_values(ascending=False).head(10)\n",
        "customer_total_spending = df2.groupby('CustomerID')['Revenue'].sum().sort_values(ascending=False).head(10)"
      ]
    },
    {
      "cell_type": "code",
      "execution_count": null,
      "id": "07911822",
      "metadata": {
        "id": "07911822",
        "scrolled": true
      },
      "outputs": [],
      "source": [
        "customer_purchase_frequency"
      ]
    },
    {
      "cell_type": "code",
      "execution_count": null,
      "id": "1e64ce39",
      "metadata": {
        "id": "1e64ce39",
        "scrolled": false
      },
      "outputs": [],
      "source": [
        "# Plot top customers by purchase frequency\n",
        "plt.figure(figsize=(12, 6))\n",
        "sns.barplot(x=customer_purchase_frequency.values, y=customer_purchase_frequency.index, palette='Blues')\n",
        "plt.title('Top Customers by Purchase Frequency')\n",
        "plt.xlabel('Number of Purchases')\n",
        "plt.ylabel('Customer ID')\n",
        "plt.show()"
      ]
    },
    {
      "cell_type": "code",
      "execution_count": null,
      "id": "327cc809",
      "metadata": {
        "id": "327cc809"
      },
      "outputs": [],
      "source": [
        "customer_total_spending"
      ]
    },
    {
      "cell_type": "code",
      "execution_count": null,
      "id": "de0a6f42",
      "metadata": {
        "id": "de0a6f42"
      },
      "outputs": [],
      "source": [
        "# Plot top customers by total spending\n",
        "plt.figure(figsize=(12, 6))\n",
        "sns.barplot(x=customer_total_spending.values, y=customer_total_spending.index, palette='Blues')\n",
        "plt.title('Top Customers by Total Spending')\n",
        "plt.xlabel('Total Spending')\n",
        "plt.ylabel('Customer ID')\n",
        "plt.show()"
      ]
    },
    {
      "cell_type": "markdown",
      "id": "aed81e11",
      "metadata": {
        "id": "aed81e11"
      },
      "source": [
        "### 3.2.2 How is the customer distribution across different countries?"
      ]
    },
    {
      "cell_type": "code",
      "execution_count": null,
      "id": "85ef9426",
      "metadata": {
        "id": "85ef9426"
      },
      "outputs": [],
      "source": [
        "# Plot the customer distribution across different countries with numbers on each bar\n",
        "plt.figure(figsize=(12, 8))  # Adjust the figure size\n",
        "sns.countplot(y='Country', data=df2, palette='Set3')  # Use countplot with y-axis for horizontal bars\n",
        "\n",
        "# Add numbers on each bar\n",
        "for idx, value in enumerate(df2['Country'].value_counts()):\n",
        "    plt.text(value + 1, idx, str(value), ha='left', va='center', fontsize=8)\n",
        "\n",
        "plt.title('Customer Distribution Across Different Countries')\n",
        "plt.xlabel('Number of Customers')\n",
        "plt.ylabel('Country')\n",
        "plt.show()"
      ]
    },
    {
      "cell_type": "code",
      "execution_count": null,
      "id": "89176e22",
      "metadata": {
        "id": "89176e22",
        "scrolled": true
      },
      "outputs": [],
      "source": [
        "# Print the numerical values\n",
        "for idx, (country, count) in enumerate(df2['Country'].value_counts().items()):\n",
        "    print(f\"{country}: {count} Customers\")"
      ]
    },
    {
      "cell_type": "markdown",
      "id": "4791a0ef",
      "metadata": {
        "id": "4791a0ef"
      },
      "source": [
        "### 3.2.3 How many new Customers across different Countries?"
      ]
    },
    {
      "cell_type": "code",
      "execution_count": null,
      "id": "04d55726",
      "metadata": {
        "id": "04d55726",
        "scrolled": true
      },
      "outputs": [],
      "source": [
        "# Print the numerical values\n",
        "unique_customer_counts = df2.groupby('Country')['CustomerID'].nunique().sort_values(ascending=False)\n",
        "for country, count in unique_customer_counts.items():\n",
        "    print(f\"{country}: {count} Unique / New Customers\")"
      ]
    },
    {
      "cell_type": "markdown",
      "id": "0e091c63",
      "metadata": {
        "id": "0e091c63"
      },
      "source": [
        "### 3.2.4 What are Top 10 Countries with New Customers?"
      ]
    },
    {
      "cell_type": "code",
      "execution_count": null,
      "id": "0aa5349a",
      "metadata": {
        "id": "0aa5349a"
      },
      "outputs": [],
      "source": [
        "# Select the top 10 countries\n",
        "top_10_countries = unique_customer_counts.head(10)\n",
        "\n",
        "# Plot the top 10 countries with unique customers and add numbers on each bar\n",
        "plt.figure(figsize=(12, 6))\n",
        "ax = sns.barplot(x=top_10_countries.values, y=top_10_countries.index, palette='Set3')\n",
        "\n",
        "# Add numbers on each bar\n",
        "for idx, value in enumerate(top_10_countries.values):\n",
        "    ax.text(value + 1, idx, str(value), ha='left', va='center', fontsize=8)\n",
        "\n",
        "plt.title('Top 10 Countries with Unique Customers')\n",
        "plt.xlabel('Number of Unique Customers')\n",
        "plt.ylabel('Country')\n",
        "plt.show()"
      ]
    },
    {
      "cell_type": "markdown",
      "id": "4b1b089b",
      "metadata": {
        "id": "4b1b089b"
      },
      "source": [
        "## 3.3 Country-wise Analysis"
      ]
    },
    {
      "cell_type": "markdown",
      "id": "c070782f",
      "metadata": {
        "id": "c070782f"
      },
      "source": [
        "### 3.3.1 What is the distribution of transactions across different countries?"
      ]
    },
    {
      "cell_type": "code",
      "execution_count": null,
      "id": "76f3f4cd",
      "metadata": {
        "id": "76f3f4cd"
      },
      "outputs": [],
      "source": [
        "# Plot the distribution of transactions across different countries\n",
        "plt.figure(figsize=(12, 6))\n",
        "sns.countplot(x='Country', data=df2, palette='Set3')\n",
        "plt.title('Distribution of Transactions Across Different Countries')\n",
        "plt.xlabel('Country')\n",
        "plt.ylabel('Number of Transactions')\n",
        "plt.xticks(rotation=45, ha='right')  # Rotate x-axis labels for better visibility\n",
        "plt.show()"
      ]
    },
    {
      "cell_type": "markdown",
      "id": "295e6f1d",
      "metadata": {
        "id": "295e6f1d"
      },
      "source": [
        "### 3.3.2 What is the Average transaction cost by country"
      ]
    },
    {
      "cell_type": "code",
      "execution_count": null,
      "id": "afe557e7",
      "metadata": {
        "id": "afe557e7"
      },
      "outputs": [],
      "source": [
        "# Presentation of the average transaction cost by country\n",
        "average_transaction_cost_by_country = df.groupby('Country').apply(lambda x: (x['Quantity'] * x['UnitPrice']).mean()).sort_values(ascending=False)\n",
        "plt.figure(figsize=(12, 6))\n",
        "sns.barplot(x=average_transaction_cost_by_country.index, y=average_transaction_cost_by_country.values)\n",
        "plt.title('Average Transaction Cost by Country')\n",
        "plt.xlabel('Country')\n",
        "plt.ylabel('Average Transaction Cost')\n",
        "plt.xticks(rotation=45, ha='right')\n",
        "plt.show()"
      ]
    },
    {
      "cell_type": "code",
      "execution_count": null,
      "id": "3d13c157",
      "metadata": {
        "id": "3d13c157",
        "scrolled": true
      },
      "outputs": [],
      "source": [
        "average_transaction_cost_by_country"
      ]
    },
    {
      "cell_type": "markdown",
      "id": "5793d6cf",
      "metadata": {
        "id": "5793d6cf"
      },
      "source": [
        "## 3.4 Return and Cancellations"
      ]
    },
    {
      "cell_type": "markdown",
      "id": "ae92ed75",
      "metadata": {
        "id": "ae92ed75"
      },
      "source": [
        "### 3.4.1 How many returns or cancellations are present in the dataset?"
      ]
    },
    {
      "cell_type": "code",
      "execution_count": null,
      "id": "5aa3650f",
      "metadata": {
        "id": "5aa3650f"
      },
      "outputs": [],
      "source": [
        "# Count the number of returns or cancellations\n",
        "returns_cancellations_count = df2[df2['Quantity'] < 0].shape[0]\n",
        "\n",
        "print(f\"Number of Returns or Cancellations: {returns_cancellations_count}\")"
      ]
    },
    {
      "cell_type": "markdown",
      "id": "0ee1f9a6",
      "metadata": {
        "id": "0ee1f9a6"
      },
      "source": [
        "### 3.4.2 How many unique customers did return or cancellations?"
      ]
    },
    {
      "cell_type": "code",
      "execution_count": null,
      "id": "634a1fd6",
      "metadata": {
        "id": "634a1fd6"
      },
      "outputs": [],
      "source": [
        "# Filter for transactions with negative quantities (returns or cancellations)\n",
        "returns_cancellations = df2[df2['Quantity'] < 0]\n",
        "\n",
        "# Count the number of unique customers who made returns or cancellations\n",
        "unique_customers_returns_cancellations = returns_cancellations['CustomerID'].nunique()\n",
        "\n",
        "print(f\"Number of Unique Customers with Returns or Cancellations: {unique_customers_returns_cancellations}\")"
      ]
    },
    {
      "cell_type": "markdown",
      "id": "1438c891",
      "metadata": {
        "id": "1438c891"
      },
      "source": [
        "### 3.4.3 How much revenue lost due to return or cancellations?"
      ]
    },
    {
      "cell_type": "code",
      "execution_count": null,
      "id": "63935abe",
      "metadata": {
        "id": "63935abe"
      },
      "outputs": [],
      "source": [
        "# Calculate total revenue generated\n",
        "total_revenue_generated = (df2['Quantity'] * df2['UnitPrice']).sum()\n",
        "\n",
        "# Filter for transactions with negative quantities (returns or cancellations)\n",
        "returns_cancellations = df2[df2['Quantity'] < 0]\n",
        "\n",
        "# Calculate total revenue lost due to returns or cancellations\n",
        "revenue_lost_returns_cancellations = (returns_cancellations['Quantity'] * returns_cancellations['UnitPrice']).sum()\n",
        "\n",
        "# Take the absolute value to represent revenue lost as positive\n",
        "revenue_lost_returns_cancellations = abs(revenue_lost_returns_cancellations)\n",
        "\n",
        "# Calculate net revenue (generated - lost)\n",
        "net_revenue = total_revenue_generated - revenue_lost_returns_cancellations\n",
        "\n",
        "# Calculate percentages\n",
        "percentage_revenue_lost = (revenue_lost_returns_cancellations / total_revenue_generated) * 100\n",
        "percentage_net_revenue = (net_revenue / total_revenue_generated) * 100\n",
        "\n",
        "print(f\"Total Revenue Generated: ${total_revenue_generated:.2f}\")\n",
        "print(f\"Total Revenue Lost due to Returns or Cancellations: ${revenue_lost_returns_cancellations:.2f} ({percentage_revenue_lost:.2f}%)\")\n",
        "print(f\"Net Revenue (Generated - Lost): ${net_revenue:.2f} ({percentage_net_revenue:.2f}%)\")"
      ]
    },
    {
      "cell_type": "markdown",
      "id": "dbd31a19",
      "metadata": {
        "id": "dbd31a19"
      },
      "source": [
        "### 3.4.4 Which month and year has the maximum number of return or cancellations and how many return or cancellations in that particular month and year?"
      ]
    },
    {
      "cell_type": "code",
      "execution_count": null,
      "id": "f8e119bc",
      "metadata": {
        "id": "f8e119bc"
      },
      "outputs": [],
      "source": [
        "# First, filter for returns/cancellations (negative Quantity)\n",
        "returns = df[df['Quantity'] < 0]\n",
        "\n",
        "# Group by Year & Month and count\n",
        "returns_by_month_year = (\n",
        "    returns\n",
        "      .groupby([\n",
        "          returns['InvoiceDate'].dt.year.rename('Year'),\n",
        "          returns['InvoiceDate'].dt.month.rename('Month')\n",
        "      ])\n",
        "      .size()\n",
        "      .reset_index(name='Count')\n",
        ")\n",
        "\n",
        "# Guard: only compute idxmax if we have any data\n",
        "if returns_by_month_year.empty:\n",
        "    print(\"No returns or cancellations in this dataset.\")\n",
        "else:\n",
        "    idx = returns_by_month_year['Count'].idxmax()\n",
        "    max_row     = returns_by_month_year.loc[idx]\n",
        "    max_year    = max_row['Year']\n",
        "    max_month   = max_row['Month']\n",
        "    max_count   = max_row['Count']\n",
        "    print(\"Month and Year with Maximum Returns or Cancellations:\")\n",
        "    print(f\" • {max_year}-{max_month}: {max_count} returns/cancellations\")\n"
      ]
    },
    {
      "cell_type": "markdown",
      "id": "7f25dbab",
      "metadata": {
        "id": "7f25dbab"
      },
      "source": [
        "### 3.4.5 Which products has the highest number of return or cancellations?"
      ]
    },
    {
      "cell_type": "code",
      "execution_count": null,
      "id": "bccd5cf6",
      "metadata": {
        "id": "bccd5cf6"
      },
      "outputs": [],
      "source": [
        "# Filter for returns/cancellations (negative Quantity)\n",
        "returns = df[df['Quantity'] < 0]\n",
        "\n",
        "# Group by product (Description) and count\n",
        "returns_by_product = (\n",
        "    returns\n",
        "      .groupby('Description')\n",
        "      .size()\n",
        "      .reset_index(name='Count')\n",
        ")\n",
        "\n",
        "# Guard against empty result\n",
        "if returns_by_product.empty:\n",
        "    print(\"No returns or cancellations in this dataset, so no product to report.\")\n",
        "else:\n",
        "    idx = returns_by_product['Count'].idxmax()\n",
        "    max_row = returns_by_product.loc[idx]\n",
        "    max_product_description = max_row['Description']\n",
        "    max_product_count       = max_row['Count']\n",
        "\n",
        "    print(\"Product with Maximum Returns or Cancellations:\")\n",
        "    print(f\" • {max_product_description}: {max_product_count} cases\")\n"
      ]
    },
    {
      "cell_type": "markdown",
      "id": "92af0259",
      "metadata": {
        "id": "92af0259"
      },
      "source": [
        "### 3.4.6 Top 10 Products with highest number of return or cancellations?"
      ]
    },
    {
      "cell_type": "code",
      "execution_count": null,
      "id": "e2b66453",
      "metadata": {
        "id": "e2b66453"
      },
      "outputs": [],
      "source": [
        "# Filter for returns/cancellations\n",
        "returns = df[df['Quantity'] < 0]\n",
        "\n",
        "# Group by product and count\n",
        "returns_by_product = (\n",
        "    returns\n",
        "      .groupby('Description')\n",
        "      .size()\n",
        "      .reset_index(name='Count')\n",
        ")\n",
        "\n",
        "# Guard against empty result\n",
        "if returns_by_product.empty:\n",
        "    print(\"No returns or cancellations in this dataset, so no products to list.\")\n",
        "else:\n",
        "    # Sort descending and take top 10\n",
        "    top_10 = returns_by_product.sort_values(by='Count', ascending=False).head(10)\n",
        "    print(\"Top 10 Products with highest returns or cancellations:\")\n",
        "    display(top_10[['Description','Count']])\n"
      ]
    },
    {
      "cell_type": "markdown",
      "id": "88a9dc5e",
      "metadata": {
        "id": "88a9dc5e"
      },
      "source": [
        "# 4. Data Preparation"
      ]
    },
    {
      "cell_type": "markdown",
      "id": "66c4b420",
      "metadata": {
        "id": "66c4b420"
      },
      "source": [
        "## 4.1 Handling Null Values"
      ]
    },
    {
      "cell_type": "code",
      "execution_count": null,
      "id": "8yOP3uNIurzL",
      "metadata": {
        "id": "8yOP3uNIurzL"
      },
      "outputs": [],
      "source": [
        "# 4.1 Handling Null Values\n",
        "\n",
        "# 1) Report\n",
        "print(\"Null counts before:\")\n",
        "display(df.isna().sum())\n",
        "\n",
        "# 2) Act\n",
        "df['Description'].fillna('Missing', inplace=True)             # keep the row, mark missing\n",
        "df = df.dropna(subset=['InvoiceDate', 'UnitPrice'])           # drop rows missing these critical fields\n",
        "df['CustomerID'].fillna(0, inplace=True)                      # impute zeros for anonymous customers\n",
        "\n",
        "# 3) Verify\n",
        "print(\"\\nNull counts after:\")\n",
        "display(df.isna().sum())\n",
        "print(f\"Data shape after dropping critical nulls: {df.shape}\")\n"
      ]
    },
    {
      "cell_type": "markdown",
      "id": "71f005b3",
      "metadata": {
        "id": "71f005b3"
      },
      "source": [
        "## 4.2 Handling Duplicate & Outliers"
      ]
    },
    {
      "cell_type": "code",
      "execution_count": null,
      "id": "ENMxldyAwA6p",
      "metadata": {
        "id": "ENMxldyAwA6p"
      },
      "outputs": [],
      "source": [
        "# 1) Drop full-row duplicates\n",
        "before = df.shape[0]\n",
        "df = df.drop_duplicates()\n",
        "dropped = before - df.shape[0]\n",
        "print(f\"Dropped {dropped} full-row duplicates\")\n",
        "\n",
        "# 2) Compute TotalSales (needed for outlier detection)\n",
        "df['TotalSales'] = df['Quantity'] * df['UnitPrice']\n",
        "\n",
        "# 3) Identify and drop outliers (TotalSales > mean + 3·std)\n",
        "mean, std = df['TotalSales'].mean(), df['TotalSales'].std()\n",
        "cutoff = mean + 3 * std\n",
        "outliers = df[df['TotalSales'] > cutoff]\n",
        "print(f\"Identified {len(outliers)} outliers (TotalSales > {cutoff:.2f})\")\n",
        "df = df[df['TotalSales'] <= cutoff]\n",
        "print(f\"Data shape after outlier removal: {df.shape}\")\n"
      ]
    },
    {
      "cell_type": "markdown",
      "id": "nlp8-oxpylT3",
      "metadata": {
        "id": "nlp8-oxpylT3"
      },
      "source": [
        "## 4.3 Handling Returns & Cancellations\n",
        "Separate any negative-Quantity rows (returns) for reporting, and keep only non-returns for the main dataset.\n"
      ]
    },
    {
      "cell_type": "code",
      "execution_count": null,
      "id": "SWMX6830ywGH",
      "metadata": {
        "id": "SWMX6830ywGH"
      },
      "outputs": [],
      "source": [
        "df_all      = df.copy()                     # keep full set including returns\n",
        "df_returns  = df_all[df_all['Quantity'] < 0] # extract returns\n",
        "df          = df_all[df_all['Quantity'] >= 0]# main dataset without returns\n",
        "\n",
        "print(f\"Extracted {len(df_returns)} returns\")\n",
        "print(f\"Main dataset now has {df.shape[0]} sales records\")\n"
      ]
    },
    {
      "cell_type": "markdown",
      "id": "ZOtWnU7gy5kZ",
      "metadata": {
        "id": "ZOtWnU7gy5kZ"
      },
      "source": [
        "## 4.4 Feature Engineering: Date Parts\n",
        "Create Year, Month, and Day-of-Week features from the InvoiceDate for analysis and modelling.\n"
      ]
    },
    {
      "cell_type": "code",
      "execution_count": null,
      "id": "GGfT0lqSy-6K",
      "metadata": {
        "id": "GGfT0lqSy-6K"
      },
      "outputs": [],
      "source": [
        "df['Year']      = df['InvoiceDate'].dt.year\n",
        "df['Month']     = df['InvoiceDate'].dt.month\n",
        "df['DayOfWeek'] = df['InvoiceDate'].dt.day_name()\n",
        "\n",
        "print(\"Added Year, Month, and DayOfWeek columns\")\n",
        "display(df[['InvoiceDate','Year','Month','DayOfWeek']].head(5))\n"
      ]
    },
    {
      "cell_type": "markdown",
      "id": "I0Ey-4u34Fy5",
      "metadata": {
        "id": "I0Ey-4u34Fy5"
      },
      "source": [
        "## 5. Feature Engineering"
      ]
    },
    {
      "cell_type": "markdown",
      "id": "21d1d917",
      "metadata": {
        "id": "21d1d917"
      },
      "source": [
        "# 5.1 Selecting relevant Columns"
      ]
    },
    {
      "cell_type": "code",
      "execution_count": null,
      "id": "7061639a",
      "metadata": {
        "id": "7061639a"
      },
      "outputs": [],
      "source": [
        "# Select relevant columns\n",
        "selected_columns = ['Quantity', 'InvoiceDate', 'UnitPrice', 'Country', 'TotalSales']\n",
        "\n",
        "# Create a new DataFrame with selected columns\n",
        "df_selected = df[selected_columns].copy()\n",
        "\n",
        "# Display the new DataFrame\n",
        "display(\"Selected Columns for Regression Analysis:\")\n",
        "display(df_selected.head())"
      ]
    },
    {
      "cell_type": "markdown",
      "id": "2c36f94a",
      "metadata": {
        "id": "2c36f94a"
      },
      "source": [
        "# 5.2 One-Hot Encoding"
      ]
    },
    {
      "cell_type": "code",
      "execution_count": null,
      "id": "f58c7328",
      "metadata": {
        "id": "f58c7328"
      },
      "outputs": [],
      "source": [
        "# Perform one-hot encoding for the 'Country' column\n",
        "df_selected = pd.get_dummies(df_selected, columns=['Country'], prefix='Country')"
      ]
    },
    {
      "cell_type": "code",
      "execution_count": null,
      "id": "19982061",
      "metadata": {
        "id": "19982061"
      },
      "outputs": [],
      "source": [
        "df_selected.head()"
      ]
    },
    {
      "cell_type": "code",
      "execution_count": null,
      "id": "a43458e0",
      "metadata": {
        "id": "a43458e0",
        "scrolled": true
      },
      "outputs": [],
      "source": [
        "# Extract features from 'InvoiceDate'\n",
        "df_selected['InvoiceDate'] = pd.to_datetime(df_selected['InvoiceDate'])\n",
        "df_selected['DayOfWeek'] = df_selected['InvoiceDate'].dt.dayofweek\n",
        "df_selected['Hour'] = df_selected['InvoiceDate'].dt.hour\n",
        "df_selected['Month'] = df_selected['InvoiceDate'].dt.month\n",
        "\n",
        "# Drop the original 'InvoiceDate' column\n",
        "df_selected = df_selected.drop('InvoiceDate', axis=1)"
      ]
    },
    {
      "cell_type": "markdown",
      "id": "9c6a84e2",
      "metadata": {
        "id": "9c6a84e2"
      },
      "source": [
        "## 5.3 Separating Target Variable"
      ]
    },
    {
      "cell_type": "code",
      "execution_count": null,
      "id": "75e8ace6",
      "metadata": {
        "id": "75e8ace6"
      },
      "outputs": [],
      "source": [
        "# Separate features and target variable\n",
        "X = df_selected.drop('TotalSales', axis=1)\n",
        "y = df_selected['TotalSales']"
      ]
    },
    {
      "cell_type": "markdown",
      "id": "c5146992",
      "metadata": {
        "id": "c5146992"
      },
      "source": [
        "## 5.4 Train-test Split"
      ]
    },
    {
      "cell_type": "code",
      "execution_count": null,
      "id": "ac76398c",
      "metadata": {
        "id": "ac76398c"
      },
      "outputs": [],
      "source": [
        "X_train, X_test, y_train, y_test = train_test_split(X, y, test_size=0.2, random_state=42)"
      ]
    },
    {
      "cell_type": "markdown",
      "id": "94eff989",
      "metadata": {
        "id": "94eff989"
      },
      "source": [
        "**Standardization for Linear Regression**"
      ]
    },
    {
      "cell_type": "code",
      "execution_count": null,
      "id": "84383223",
      "metadata": {
        "id": "84383223"
      },
      "outputs": [],
      "source": [
        "# Standardization for Linear Regression\n",
        "scaler = StandardScaler()\n",
        "X_train_scaled = scaler.fit_transform(X_train[['Quantity', 'UnitPrice']])\n",
        "X_test_scaled = scaler.transform(X_test[['Quantity', 'UnitPrice']])"
      ]
    },
    {
      "cell_type": "markdown",
      "id": "b5bea6bc",
      "metadata": {
        "id": "b5bea6bc"
      },
      "source": [
        "# Regression Problem Statement"
      ]
    },
    {
      "cell_type": "markdown",
      "id": "4c6cc755",
      "metadata": {
        "id": "4c6cc755"
      },
      "source": [
        "Can we predict the total sales amount (in dollars) for a given transaction based on the quantity of items purchased, the unit price of each item, the country of the customer, and the timestamp of the transaction?"
      ]
    },
    {
      "cell_type": "markdown",
      "id": "e3691340",
      "metadata": {
        "id": "e3691340"
      },
      "source": [
        "# 6. Regressor Models Implementation"
      ]
    },
    {
      "cell_type": "code",
      "execution_count": null,
      "id": "9405f23c",
      "metadata": {
        "id": "9405f23c"
      },
      "outputs": [],
      "source": [
        "# check the performance on diffrent regressor\n",
        "models = []\n",
        "models.append(('LinearRegression', LinearRegression()))\n",
        "models.append(('Random Forest', RandomForestRegressor()))\n",
        "models.append(('Decision Tree', DecisionTreeRegressor()))\n",
        "models.append(('Ridge', Ridge()))\n",
        "models.append(('KNeighborsRegressor', KNeighborsRegressor()))\n",
        "\n",
        "train_l = []\n",
        "test_l = []\n",
        "mae_l = []\n",
        "rmse_l = []\n",
        "r2_l = []\n",
        "\n",
        "import time\n",
        "i = 0\n",
        "for name,model in models:\n",
        "    i = i+1\n",
        "    start_time = time.time()\n",
        "\n",
        "    # Fitting model to the Training set\n",
        "    clf = model\n",
        "    clf.fit(X_train, y_train)\n",
        "\n",
        "    # Scores of model\n",
        "    train = model.score(X_train, y_train)\n",
        "    test = model.score(X_test, y_test)\n",
        "\n",
        "    train_l.append(train)\n",
        "    test_l.append(test)\n",
        "\n",
        "    # predict values\n",
        "    predictions = clf.predict(X_test)\n",
        "    # RMSE\n",
        "    rmse = np.sqrt(mean_squared_error(y_test, predictions))\n",
        "    rmse_l.append(rmse)\n",
        "    # MAE\n",
        "    mae = mean_absolute_error(y_test,predictions)\n",
        "    mae_l.append(mae)\n",
        "    # R2 score\n",
        "    r2 = r2_score(y_test,predictions)\n",
        "    r2_l.append(r2)\n",
        "\n",
        "\n",
        "\n",
        "    print(\"+\",\"=\"*100,\"+\")\n",
        "    print('\\033[1m' + f\"\\t\\t\\t{i}-For {name} The Performance result is: \" + '\\033[0m')\n",
        "    print(\"+\",\"=\"*100,\"+\")\n",
        "    print('Training Score  : ', train)\n",
        "    print(\"-\"*50)\n",
        "    print('Testing Score   : ', test)\n",
        "    print(\"-\"*50)\n",
        "    print('Root mean squared error (RMSE) : ', rmse)\n",
        "    print(\"-\"*50)\n",
        "    print('Mean absolute error (MAE) : ', mae)\n",
        "    print(\"-\"*50)\n",
        "    print('R2 score : ', r2)\n",
        "    print(\"-\"*50)\n",
        "\n",
        "\n",
        "\n",
        "    print(\"\\t\\t\\t\\t\\t\\t\\t-----------------------------------------------------------\")\n",
        "    print(f\"\\t\\t\\t\\t\\t\\t\\t Time for detection ({name}) : {round((time.time() - start_time), 3)} seconds...\")\n",
        "    print(\"\\t\\t\\t\\t\\t\\t\\t-----------------------------------------------------------\")\n",
        "    print()"
      ]
    },
    {
      "cell_type": "code",
      "execution_count": null,
      "id": "9b82c90c",
      "metadata": {
        "id": "9b82c90c"
      },
      "outputs": [],
      "source": [
        "comp = pd.DataFrame({\"Models\": dict(models).keys(), \"Training Score\": train_l, \"Testing Score\": test_l, \"MAE\": mae_l, \"RMSE\": rmse_l, \"R2 Score\": r2_l})\n",
        "comp\n"
      ]
    },
    {
      "cell_type": "code",
      "execution_count": null,
      "id": "6d302e70",
      "metadata": {
        "id": "6d302e70"
      },
      "outputs": [],
      "source": [
        "plt.figure(figsize=(14, 8))\n",
        "\n",
        "# Plotting Training Score\n",
        "plt.subplot(2, 3, 1)\n",
        "sns.barplot(x='Models', y='Training Score', data=comp)\n",
        "plt.title('Training Score')\n",
        "plt.xticks(rotation=45, ha='center')\n",
        "\n",
        "# Plotting Testing Score\n",
        "plt.subplot(2, 3, 2)\n",
        "sns.barplot(x='Models', y='Testing Score', data=comp)\n",
        "plt.title('Testing Score')\n",
        "plt.xticks(rotation=45, ha='center')\n",
        "\n",
        "# Plotting MAE\n",
        "plt.subplot(2, 3, 3)\n",
        "sns.barplot(x='Models', y='MAE', data=comp)\n",
        "plt.title('Mean Absolute Error (MAE)')\n",
        "plt.xticks(rotation=45, ha='center')\n",
        "\n",
        "# Plotting RMSE\n",
        "plt.subplot(2, 3, 4)\n",
        "sns.barplot(x='Models', y='RMSE', data=comp)\n",
        "plt.title('Root Mean Squared Error (RMSE)')\n",
        "plt.xticks(rotation=45, ha='center')\n",
        "\n",
        "# Plotting R2 Score\n",
        "plt.subplot(2, 3, 5)\n",
        "sns.barplot(x='Models', y='R2 Score', data=comp)\n",
        "plt.title('R2 Score')\n",
        "plt.xticks(rotation=45, ha='center')\n",
        "\n",
        "plt.tight_layout()\n",
        "plt.show()"
      ]
    },
    {
      "cell_type": "code",
      "execution_count": null,
      "id": "03b87273",
      "metadata": {
        "id": "03b87273"
      },
      "outputs": [],
      "source": []
    }
  ],
  "metadata": {
    "colab": {
      "collapsed_sections": [
        "85085665",
        "880bc353",
        "8b09a752",
        "78a55663",
        "aed81e11",
        "4791a0ef",
        "0e091c63",
        "c070782f",
        "295e6f1d",
        "5793d6cf",
        "66c4b420",
        "71f005b3",
        "nlp8-oxpylT3",
        "ZOtWnU7gy5kZ",
        "21d1d917",
        "2c36f94a"
      ],
      "provenance": []
    },
    "kernelspec": {
      "display_name": "Python 3 (ipykernel)",
      "language": "python",
      "name": "python3"
    },
    "language_info": {
      "codemirror_mode": {
        "name": "ipython",
        "version": 3
      },
      "file_extension": ".py",
      "mimetype": "text/x-python",
      "name": "python",
      "nbconvert_exporter": "python",
      "pygments_lexer": "ipython3",
      "version": "3.11.5"
    }
  },
  "nbformat": 4,
  "nbformat_minor": 5
}